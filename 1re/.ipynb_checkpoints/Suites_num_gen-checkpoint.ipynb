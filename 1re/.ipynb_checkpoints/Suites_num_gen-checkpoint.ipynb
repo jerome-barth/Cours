{
 "cells": [
  {
   "cell_type": "code",
   "execution_count": 1,
   "metadata": {
    "slideshow": {
     "slide_type": "skip"
    }
   },
   "outputs": [],
   "source": [
    "import sys\n",
    "ipython = get_ipython()\n",
    "\n",
    "def hide_traceback(exc_tuple=None, filename=None, tb_offset=None,\n",
    "                   exception_only=False, running_compiled_code=False):\n",
    "    etype, value, tb = sys.exc_info()\n",
    "    return ipython._showtraceback(etype, value, ipython.InteractiveTB.get_exception_only(etype, value))\n",
    "\n",
    "ipython.showtraceback = hide_traceback\n",
    "\n",
    "%matplotlib inline\n",
    "import matplotlib\n",
    "import matplotlib.pyplot as plt\n",
    "matplotlib.rcParams.update({'font.size': 16, 'font.family': 'STIXGeneral', 'mathtext.fontset': 'cm'})\n"
   ]
  },
  {
   "cell_type": "markdown",
   "metadata": {
    "slideshow": {
     "slide_type": "slide"
    }
   },
   "source": [
    "# Suites numériques - Généralités"
   ]
  },
  {
   "cell_type": "markdown",
   "metadata": {
    "slideshow": {
     "slide_type": "fragment"
    }
   },
   "source": [
    "Une suite $(u_n)$ est une liste ordonnée de nombres réels : à chaque entier $n$, on fait correspondre le terme $u_n$ qui se lit \"$u$ indice $n$\".  \n",
    "Pour désigner $u_n$, on parle du *terme général* de la suite ou bien du terme de *rang* $n$ ou encore du terme *d'indice* $n$."
   ]
  },
  {
   "cell_type": "markdown",
   "metadata": {
    "slideshow": {
     "slide_type": "fragment"
    }
   },
   "source": [
    "**Remarque** : On peut voir la suite $(u_n)$ comme une fonction :\n",
    "\\begin{align*}u :\\ &\\mathbb{N} \\rightarrow \\mathbb{R} \\\\ &n \\mapsto u(n)=u_n\\end{align*}"
   ]
  },
  {
   "cell_type": "markdown",
   "metadata": {
    "slideshow": {
     "slide_type": "slide"
    }
   },
   "source": [
    "## Différentes manière de définir une suite"
   ]
  },
  {
   "cell_type": "markdown",
   "metadata": {
    "slideshow": {
     "slide_type": "fragment"
    }
   },
   "source": [
    "### De manière explicite\n",
    "Une formule permet de calculer $u_n$ en fonction de $n$."
   ]
  },
  {
   "cell_type": "markdown",
   "metadata": {
    "slideshow": {
     "slide_type": "slide"
    }
   },
   "source": [
    "**Exemple** : Pour tout $n\\in\\mathbb{N}$, $u_n=n^2-3n+2$.\n",
    "\n",
    "Pour calculer $u_{10}$, on remplace $n$ par $10$ : $u_{10}=10^2-3\\times10+2=100-30+2=72$."
   ]
  },
  {
   "cell_type": "code",
   "execution_count": 2,
   "metadata": {
    "slideshow": {
     "slide_type": "fragment"
    }
   },
   "outputs": [
    {
     "data": {
      "text/plain": [
       "72"
      ]
     },
     "execution_count": 2,
     "metadata": {},
     "output_type": "execute_result"
    }
   ],
   "source": [
    "def u(n):\n",
    "    assert type(n)==int and n>=0, \"La suite n'est définie que pour des entiers positifs\"\n",
    "    return n**2 - 3*n + 2\n",
    "\n",
    "u(10)"
   ]
  },
  {
   "cell_type": "markdown",
   "metadata": {
    "slideshow": {
     "slide_type": "slide"
    }
   },
   "source": [
    "### Avec une relation de récurrence\n",
    "On donne le premier terme ainsi qu'une méthode qui, connaissant un terme, permet de calculer le terme suivant.  \n",
    "Ainsi, chaque terme s'obtient en fonction du précédent."
   ]
  },
  {
   "cell_type": "markdown",
   "metadata": {
    "slideshow": {
     "slide_type": "slide"
    }
   },
   "source": [
    "**Exemple** : La suite $(v_n)$ a pour terme initial $v_0=1$ et la relation de récurrence est : $v_{n+1}=v_n+2$ pour tout $n\\in\\mathbb{N}$.\n",
    "\n",
    "Pour calculer $v_{4}$, il faut d'abord connaître $v_3$, mais pour utiliser $v_3$, il faut calculer $v_2$, etc."
   ]
  },
  {
   "cell_type": "markdown",
   "metadata": {
    "slideshow": {
     "slide_type": "fragment"
    }
   },
   "source": [
    "$v_1=v_0+2=1+2=3$  \n",
    "$v_2=v_1+2=3+2=5$  \n",
    "$v_3=v_2+2=5+2=7$  \n",
    "$v_4=v_3+2=7+2=9$  "
   ]
  },
  {
   "cell_type": "code",
   "execution_count": 3,
   "metadata": {
    "slideshow": {
     "slide_type": "fragment"
    }
   },
   "outputs": [
    {
     "data": {
      "text/plain": [
       "9"
      ]
     },
     "execution_count": 3,
     "metadata": {},
     "output_type": "execute_result"
    }
   ],
   "source": [
    "def v(n):                   # /!\\ En informatique on travaille avec 'n' et 'n-1'\n",
    "    assert type(n)==int and n>=0, \\\n",
    "        \"La suite n'est définie que pour des entiers positifs\"\n",
    "    if n==0:           \n",
    "        return 1       \n",
    "    else:                   # Une fonction qui fait référence à elle-même\n",
    "        return v(n-1) + 2   # s'appelle une fonction récursive\n",
    "    \n",
    "v(4)"
   ]
  },
  {
   "cell_type": "markdown",
   "metadata": {
    "slideshow": {
     "slide_type": "slide"
    }
   },
   "source": [
    "### Représentation\n",
    "On peut représenter les termes d'une suite à l'aide d'un *nuage de points*. C'est-à-dire que l'on va représenter les points $(n,u_n)$ où les indices sont en abscisse et les valeurs de la suite en ordonnée."
   ]
  },
  {
   "cell_type": "markdown",
   "metadata": {
    "slideshow": {
     "slide_type": "slide"
    }
   },
   "source": [
    "**Exemple** : Soit $(u_n)$ définie par $u_n=n(n-4)+4$. Calculer puis représenter les 6 premiers termes.\n"
   ]
  },
  {
   "cell_type": "code",
   "execution_count": 4,
   "metadata": {
    "slideshow": {
     "slide_type": "fragment"
    }
   },
   "outputs": [
    {
     "name": "stdout",
     "output_type": "stream",
     "text": [
      "u_0 = 4\n",
      "u_1 = 1\n",
      "u_2 = 0\n",
      "u_3 = 1\n",
      "u_4 = 4\n",
      "u_5 = 9\n"
     ]
    }
   ],
   "source": [
    "def u(n):\n",
    "    assert type(n) == int and n >= 0, \"La suite n'est définie que pour des entiers positifs\"\n",
    "    return n*(n - 4) + 4\n",
    "\n",
    "for i in range(6):\n",
    "    print(\"u_{n} = {un}\".format(n=i, un=u(i)))"
   ]
  },
  {
   "cell_type": "markdown",
   "metadata": {
    "slideshow": {
     "slide_type": "slide"
    }
   },
   "source": [
    "Les 6 premières valeurs de la suite sont :\n",
    "\n",
    "|$n$  | $u_n$ |\n",
    "|:---:|:-----:|\n",
    "|  0  |   4   |\n",
    "|  1  |   1   |\n",
    "|  2  |   0   |\n",
    "|  3  |   1   |\n",
    "|  4  |   4   |\n",
    "|  5  |   9   |\n",
    "\n",
    "Nous allons représenter ces valeurs dans un graphique où les $n$ sont en abscisses et les $u_n$ en ordonnées."
   ]
  },
  {
   "cell_type": "code",
   "execution_count": 5,
   "metadata": {
    "slideshow": {
     "slide_type": "slide"
    }
   },
   "outputs": [
    {
     "data": {
      "image/png": "[encoded data removed]",
      "text/plain": [
       "<matplotlib.figure.Figure at 0x1d7818c6b70>"
      ]
     },
     "metadata": {},
     "output_type": "display_data"
    }
   ],
   "source": [
    "import matplotlib.pyplot as plt\n",
    "\n",
    "abscisses = list(range(6))\n",
    "ordonnees = [u(n) for n in abscisses]\n",
    "\n",
    "plt.figure(figsize=(10, 6))\n",
    "plt.yticks(range(11))\n",
    "plt.grid(ls=':')\n",
    "plt.scatter(abscisses, ordonnees, s=100, c='red', marker='x')\n",
    "plt.show()"
   ]
  },
  {
   "cell_type": "markdown",
   "metadata": {
    "slideshow": {
     "slide_type": "slide"
    }
   },
   "source": [
    "## Sens de variation\n",
    "Pour une suite $(u_n)$, on dira que la suite est :\n",
    "* croissante si pour tout entier $n$, $u_{n+1}\\geqslant u_n$.\n",
    "* décroissante si pour tout entier $n$, $u_{n+1}\\leqslant u_n$.\n",
    "<br><br>\n",
    "* croissante à partir du rang $N$ si pour tout entier $n\\geqslant N$, $u_{n+1}\\geqslant u_n$.\n",
    "* décroissante à partir du rang $N$ si pour tout entier $n\\geqslant N$, $u_{n+1}\\leqslant u_n$."
   ]
  },
  {
   "cell_type": "markdown",
   "metadata": {
    "slideshow": {
     "slide_type": "slide"
    }
   },
   "source": [
    "### Montrer qu'une suite est croissante ou décroissante : méthode n°1\n",
    "Soit $(u_n)$ la suite définie par récurrence par $u_0=10$ et pour tout entier $n$ : $u_{n+1}=u_n-7$."
   ]
  },
  {
   "cell_type": "markdown",
   "metadata": {
    "slideshow": {
     "slide_type": "fragment"
    }
   },
   "source": [
    "On calcule la différence $u_{n+1}-u_n$ :"
   ]
  },
  {
   "cell_type": "markdown",
   "metadata": {
    "slideshow": {
     "slide_type": "fragment"
    }
   },
   "source": [
    "$$u_{n+1}-u_n=(u_n-7)-u_n=-7\\leqslant 0$$"
   ]
  },
  {
   "cell_type": "markdown",
   "metadata": {
    "slideshow": {
     "slide_type": "fragment"
    }
   },
   "source": [
    "La suite $(u_n)$ est donc décroissante."
   ]
  },
  {
   "cell_type": "markdown",
   "metadata": {
    "slideshow": {
     "slide_type": "slide"
    }
   },
   "source": [
    "### Montrer qu'une suite est croissante ou décroissante : méthode n°2\n",
    "Soit $(u_n)$ une suite numérique dont les termes sont tous strictement positifs."
   ]
  },
  {
   "cell_type": "markdown",
   "metadata": {
    "slideshow": {
     "slide_type": "fragment"
    }
   },
   "source": [
    "Puisque tous les termes de la suite sont **_strictement positifs_**, on peut calculer le quotient $\\dfrac{u_{n+1}}{u_n}$ qui sera lui-même strictement positif :\n",
    "* si pour tout entier $n$, $\\dfrac{u_{n+1}}{u_n}\\geqslant 1$, alors la suite $(u_n)$ est croissante.\n",
    "* si pour tout entier $n$, $\\dfrac{u_{n+1}}{u_n}\\leqslant 1$, alors la suite $(u_n)$ est décroissante."
   ]
  },
  {
   "cell_type": "markdown",
   "metadata": {
    "slideshow": {
     "slide_type": "slide"
    }
   },
   "source": [
    "**Exemple** : Soit $(u_n)$ la suite définie par récurrence par $u_0=1$ et pour tout entier $n$ : $u_{n+1}=2\\times u_n$. On admet que les termes de cette suite sont tous strictement positifs."
   ]
  },
  {
   "cell_type": "markdown",
   "metadata": {
    "slideshow": {
     "slide_type": "fragment"
    }
   },
   "source": [
    "$$\\dfrac{u_{n+1}}{u_n}=\\dfrac{2\\times u_n}{u_n}=2\\geqslant 1$$"
   ]
  },
  {
   "cell_type": "markdown",
   "metadata": {
    "slideshow": {
     "slide_type": "fragment"
    }
   },
   "source": [
    "La suite $(u_n)$ est donc croissante."
   ]
  },
  {
   "cell_type": "markdown",
   "metadata": {
    "slideshow": {
     "slide_type": "slide"
    }
   },
   "source": [
    "### Montrer qu'une suite est croissante ou décroissante : méthode n°3\n",
    "Soit la suite $(u_n)$ définie explicitement par $u_n=f(n)$ pour tout entier $n$.\n",
    "Si la fonction $f$ est monotone sur $\\left[0;+\\infty\\right[$ alors la suite a le même sens de variation que $f$."
   ]
  },
  {
   "cell_type": "markdown",
   "metadata": {
    "slideshow": {
     "slide_type": "slide"
    }
   },
   "source": [
    "**Exemple** : Soit $(u_n)$ la suite définie pour tout entier $n$ par $u_n=n^2$."
   ]
  },
  {
   "cell_type": "markdown",
   "metadata": {
    "slideshow": {
     "slide_type": "fragment"
    }
   },
   "source": [
    "La suite est définie de manière explicite par $u_n=f(n)$ où $f$ est la fonction définie sur $\\mathbb{R}$ par $f(x)=x^2$."
   ]
  },
  {
   "cell_type": "markdown",
   "metadata": {
    "slideshow": {
     "slide_type": "fragment"
    }
   },
   "source": [
    "Or la fonction $f$ est croissante sur $\\mathbb{R}^{+}$. La suite $(u_n)$ est donc croissante."
   ]
  },
  {
   "cell_type": "code",
   "execution_count": null,
   "metadata": {},
   "outputs": [],
   "source": []
  },
  {
   "cell_type": "code",
   "execution_count": null,
   "metadata": {},
   "outputs": [],
   "source": []
  }
 ],
 "metadata": {
  "celltoolbar": "Slideshow",
  "kernelspec": {
   "display_name": "Python [default]",
   "language": "python",
   "name": "python3"
  },
  "language_info": {
   "codemirror_mode": {
    "name": "ipython",
    "version": 3
   },
   "file_extension": ".py",
   "mimetype": "text/x-python",
   "name": "python",
   "nbconvert_exporter": "python",
   "pygments_lexer": "ipython3",
   "version": "3.6.4"
  },
  "toc": {
   "base_numbering": 1,
   "nav_menu": {
    "height": "200px",
    "width": "291px"
   },
   "number_sections": false,
   "sideBar": true,
   "skip_h1_title": false,
   "title_cell": "Table of Contents",
   "title_sidebar": "Contents",
   "toc_cell": false,
   "toc_position": {},
   "toc_section_display": true,
   "toc_window_display": false
  },
  "varInspector": {
   "cols": {
    "lenName": 16,
    "lenType": 16,
    "lenVar": 40
   },
   "kernels_config": {
    "python": {
     "delete_cmd_postfix": "",
     "delete_cmd_prefix": "del ",
     "library": "var_list.py",
     "varRefreshCmd": "print(var_dic_list())"
    },
    "r": {
     "delete_cmd_postfix": ") ",
     "delete_cmd_prefix": "rm(",
     "library": "var_list.r",
     "varRefreshCmd": "cat(var_dic_list()) "
    }
   },
   "types_to_exclude": [
    "module",
    "function",
    "builtin_function_or_method",
    "instance",
    "_Feature"
   ],
   "window_display": false
  }
 },
 "nbformat": 4,
 "nbformat_minor": 2
}
